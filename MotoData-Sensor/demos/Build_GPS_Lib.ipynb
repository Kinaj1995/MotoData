{
 "cells": [
  {
   "cell_type": "markdown",
   "metadata": {},
   "source": [
    "# GPS Libary\n",
    "Author: Pascal Rusca\n",
    "\n",
    "## Changelog\n",
    "\n",
    "- V0-01 Init GPS Libary\n",
    "\n",
    "\n",
    "## Installation\n",
    "Copy the GPS_lib class to a \"gps_lib.py\" file on the microcontroller\n",
    "\n",
    "\n",
    "## Functions\n",
    "\n",
    "### Create an OBJ\n",
    "```python\n",
    "GPS = GPS_lib()\n",
    "```\n",
    "\n",
    "### Convert the GPS Data\n",
    "```python\n",
    "GPSPHRASE = \"$GNRMC,191806.000,A,4701.9534,N,00815.2762,E,0.09,38.41,121022,,,D*43\"\n",
    "GPS.read(GPSPHRASE1)\n",
    "```\n",
    "\n",
    "This will update the Obj variables. The following variables are readable:\n",
    "\n",
    "```python\n",
    "GPS.fix         # If it has connection to sattelites\n",
    "GPS.lat         # Latitude (DDmm.mm)\n",
    "GPS.long        # Longitude (DDDmm.mm)\n",
    "GPS.speed       # Speed over ground, knots\n",
    "GPS.time        # UTC of position (hhmmss.ss)\n",
    "GPS.date        # Date: (ddmmyy)\n",
    "```\n",
    "\n"
   ]
  },
  {
   "cell_type": "code",
   "execution_count": 60,
   "metadata": {},
   "outputs": [],
   "source": [
    "\n",
    "\n",
    "import re\n",
    "\n",
    "\n",
    "class GPS_lib():\n",
    "\n",
    "    fix = False\n",
    "    lat = float\n",
    "    long = float\n",
    "    speed = float\n",
    "    time = int\n",
    "    date = int\n",
    "\n",
    "    def __init__(self) -> None:\n",
    "        pass\n",
    "\n",
    "    def read(self, GPSMESSAGE):\n",
    "\n",
    "        GPSMESSAGE = re.search('(\\$)(GNRMC).*$', GPSMESSAGE)\n",
    "\n",
    "        if(GPSMESSAGE):\n",
    "\n",
    "            GPS_MESG = str(GPSMESSAGE.group(0)).split(\",\")\n",
    "            \n",
    "            try:\n",
    "                if(GPS_MESG[0] == \"$GNRMC\"):\n",
    "                    print(\"GNRMC Message found\")\n",
    "                \n",
    "                    if(GPS_MESG[2] == \"V\"):\n",
    "                        print(\"no GPS Fix\")\n",
    "                        self.time = GPS_MESG[1]\n",
    "                        self.fix = False\n",
    "                        self.date = GPS_MESG[9]\n",
    "\n",
    "\n",
    "\n",
    "                    if(GPS_MESG[2] == \"A\"):\n",
    "                        print(\"GPS Fix\")\n",
    "                        self.time = GPS_MESG[1]\n",
    "                        self.date = GPS_MESG[9]\n",
    "                        self.fix = True\n",
    "                        self.lat = GPS_MESG[3]\n",
    "                        self.long = GPS_MESG[5]\n",
    "                        self.speed = float(GPS_MESG[7]) * 1.852\n",
    "\n",
    "                else:\n",
    "                    print(\"No compatible datatype found\")\n",
    "            except:\n",
    "                print(\"GPS Error\")\n",
    "\n",
    "        else:\n",
    "            print(\"GPS Error\")"
   ]
  },
  {
   "cell_type": "code",
   "execution_count": 63,
   "metadata": {},
   "outputs": [
    {
     "name": "stdout",
     "output_type": "stream",
     "text": [
      "GNRMC Message found\n",
      "no GPS Fix\n"
     ]
    }
   ],
   "source": [
    "GPS = GPS_lib()\n",
    "\n",
    "GPSPHRASE1 = \"$GNRMC,235943.094,V,,,,,0.00,0.00,050180,,,N*58\"\n",
    "GPSPHRASE2 = \"$GNRMC,000513.595,V,,,,,0.00,0.00,060180,,,N*52\"\n",
    "GPSPHRASE3 = \"$GNR$GNRMC,191759.000,A,4701.9530,N,00815.2780,E,0.35,72.79,121022,,,A*41\"\n",
    "GPSPHRASE4 = \"GNRMC,2\"\n",
    "GPSPHRASE5 = \"55\"\n",
    "\n",
    "\n",
    "GPS.read(GPSPHRASE2)\n"
   ]
  },
  {
   "cell_type": "code",
   "execution_count": 55,
   "metadata": {},
   "outputs": [
    {
     "name": "stdout",
     "output_type": "stream",
     "text": [
      "Fix:  True\n",
      "Lat:  4701.9530\n",
      "Long:  00815.2780\n",
      "Speed (km/h: ) 0.6482\n",
      "UTC Time:  191759.000\n",
      "Date:  121022\n"
     ]
    }
   ],
   "source": [
    "if(GPS.fix):\n",
    "    print(\"Fix: \", GPS.fix)\n",
    "    print(\"Lat: \", GPS.lat)\n",
    "    print(\"Long: \", GPS.long)\n",
    "    print(\"Speed (km/h: )\", GPS.speed)\n",
    "    print(\"UTC Time: \", GPS.time)\n",
    "    print(\"Date: \", GPS.date)\n",
    "\n",
    "else:\n",
    "    print(\"Fix: \", GPS.fix)\n",
    "    print(\"UTC Time: \", GPS.time)\n",
    "    print(\"Date: \", GPS.date)"
   ]
  }
 ],
 "metadata": {
  "kernelspec": {
   "display_name": "Python 3.10.1 64-bit",
   "language": "python",
   "name": "python3"
  },
  "language_info": {
   "codemirror_mode": {
    "name": "ipython",
    "version": 3
   },
   "file_extension": ".py",
   "mimetype": "text/x-python",
   "name": "python",
   "nbconvert_exporter": "python",
   "pygments_lexer": "ipython3",
   "version": "3.10.1"
  },
  "orig_nbformat": 4,
  "vscode": {
   "interpreter": {
    "hash": "369f2c481f4da34e4445cda3fffd2e751bd1c4d706f27375911949ba6bb62e1c"
   }
  }
 },
 "nbformat": 4,
 "nbformat_minor": 2
}
